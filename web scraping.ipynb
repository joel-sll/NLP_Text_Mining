{
 "cells": [
  {
   "cell_type": "code",
   "execution_count": 27,
   "metadata": {},
   "outputs": [
    {
     "name": "stdout",
     "output_type": "stream",
     "text": [
      "Collecting requests\n",
      "  Using cached requests-2.32.3-py3-none-any.whl.metadata (4.6 kB)\n",
      "Collecting charset-normalizer<4,>=2 (from requests)\n",
      "  Using cached charset_normalizer-3.4.0-cp311-cp311-win_amd64.whl.metadata (34 kB)\n",
      "Requirement already satisfied: idna<4,>=2.5 in c:\\users\\joel\\miniconda3\\envs\\nlp\\lib\\site-packages (from requests) (3.10)\n",
      "Collecting urllib3<3,>=1.21.1 (from requests)\n",
      "  Using cached urllib3-2.2.3-py3-none-any.whl.metadata (6.5 kB)\n",
      "Requirement already satisfied: certifi>=2017.4.17 in c:\\users\\joel\\miniconda3\\envs\\nlp\\lib\\site-packages (from requests) (2024.8.30)\n",
      "Using cached requests-2.32.3-py3-none-any.whl (64 kB)\n",
      "Using cached charset_normalizer-3.4.0-cp311-cp311-win_amd64.whl (101 kB)\n",
      "Using cached urllib3-2.2.3-py3-none-any.whl (126 kB)\n",
      "Installing collected packages: urllib3, charset-normalizer, requests\n",
      "Successfully installed charset-normalizer-3.4.0 requests-2.32.3 urllib3-2.2.3\n",
      "Note: you may need to restart the kernel to use updated packages.\n",
      "Collecting beautifulsoup4Note: you may need to restart the kernel to use updated packages.\n",
      "\n",
      "  Using cached beautifulsoup4-4.12.3-py3-none-any.whl.metadata (3.8 kB)\n",
      "Collecting soupsieve>1.2 (from beautifulsoup4)\n",
      "  Downloading soupsieve-2.6-py3-none-any.whl.metadata (4.6 kB)\n",
      "Using cached beautifulsoup4-4.12.3-py3-none-any.whl (147 kB)\n",
      "Downloading soupsieve-2.6-py3-none-any.whl (36 kB)\n",
      "Installing collected packages: soupsieve, beautifulsoup4\n",
      "Successfully installed beautifulsoup4-4.12.3 soupsieve-2.6\n"
     ]
    }
   ],
   "source": [
    "%pip install requests\n",
    "\n",
    "%pip install beautifulsoup4"
   ]
  },
  {
   "cell_type": "code",
   "execution_count": 26,
   "metadata": {},
   "outputs": [
    {
     "name": "stdout",
     "output_type": "stream",
     "text": [
      "Collecting pandas\n",
      "  Using cached pandas-2.2.3-cp311-cp311-win_amd64.whl.metadata (19 kB)\n",
      "Collecting numpy>=1.23.2 (from pandas)\n",
      "  Using cached numpy-2.1.3-cp311-cp311-win_amd64.whl.metadata (60 kB)\n",
      "Requirement already satisfied: python-dateutil>=2.8.2 in c:\\users\\joel\\appdata\\roaming\\python\\python311\\site-packages (from pandas) (2.9.0.post0)\n",
      "Collecting pytz>=2020.1 (from pandas)\n",
      "  Using cached pytz-2024.2-py2.py3-none-any.whl.metadata (22 kB)\n",
      "Collecting tzdata>=2022.7 (from pandas)\n",
      "  Using cached tzdata-2024.2-py2.py3-none-any.whl.metadata (1.4 kB)\n",
      "Requirement already satisfied: six>=1.5 in c:\\users\\joel\\appdata\\roaming\\python\\python311\\site-packages (from python-dateutil>=2.8.2->pandas) (1.16.0)\n",
      "Using cached pandas-2.2.3-cp311-cp311-win_amd64.whl (11.6 MB)\n",
      "Using cached numpy-2.1.3-cp311-cp311-win_amd64.whl (12.9 MB)\n",
      "Using cached pytz-2024.2-py2.py3-none-any.whl (508 kB)\n",
      "Using cached tzdata-2024.2-py2.py3-none-any.whl (346 kB)\n",
      "Installing collected packages: pytz, tzdata, numpy, pandas\n",
      "Successfully installed numpy-2.1.3 pandas-2.2.3 pytz-2024.2 tzdata-2024.2\n",
      "Note: you may need to restart the kernel to use updated packages.\n"
     ]
    }
   ],
   "source": [
    "%pip install pandas"
   ]
  },
  {
   "cell_type": "code",
   "execution_count": 8,
   "metadata": {},
   "outputs": [
    {
     "name": "stdout",
     "output_type": "stream",
     "text": [
      "<html>\n",
      " <head>\n",
      "  <title>\n",
      "   tripadvisor.fr\n",
      "  </title>\n",
      "  <style>\n",
      "   #cmsg{animation: A 1.5s;}@keyframes A{0%{opacity:0;}99%{opacity:0;}100%{opacity:1;}}\n",
      "  </style>\n",
      " </head>\n",
      " <body style=\"margin:0\">\n",
      "  <p id=\"cmsg\">\n",
      "   Please enable JS and disable any ad blocker\n",
      "  </p>\n",
      "  <script data-cfasync=\"false\">\n",
      "   var dd={'rt':'c','cid':'AHrlqAAAAAMAUYSyGzeLpBIAJUEvBA==','hsh':'2F05D671381DB06BEE4CC52C7A6FD3','t':'fe','r':'b','s':46694,'e':'ed3e7e4675400fe9723a50eb448b93e7656477f06e55007a448165c26a3daef7','host':'geo.captcha-delivery.com','cookie':'rsmHpsLpOSXcbJQVr1Xu9mnz57uvzt1pRQMHIt5IvDoA3aHm3ZCz3auOtv01gyjVhod2O3537K6eA3Wa4OC4xPjI8jYG4XfvMCgRLyl6X2AGXldVwPjtDrnCkCuJCsKg'}\n",
      "  </script>\n",
      "  <script data-cfasync=\"false\" src=\"https://ct.captcha-delivery.com/c.js\">\n",
      "  </script>\n",
      " </body>\n",
      "</html>\n",
      "\n"
     ]
    }
   ],
   "source": [
    "import requests\n",
    "from bs4 import BeautifulSoup\n",
    "import pandas as pd\n",
    "\n",
    "headers = {\n",
    "\"accept-ranges\": \"bytes\",\n",
    "\"cache-control\": \"no-store,must-revalidate\",\n",
    "\"content-type\": \"application/json;charset=utf-8\",\n",
    "\"date\": \"Fri, 06 Dec 2024 18:04:11 GMT\",\n",
    "\"server\":\"envoy\",\n",
    "\"vary\":\"Accept-Encoding\",\n",
    "\"via\":\"1.1 varnish\",\n",
    "\"x-cache\":\"MISS\",\n",
    "\"x-cache-hits\":\"0\",\n",
    "\"x-content-encoding-over-network\":\"br\"\n",
    "}\n",
    "\n",
    "# URL of the TripAdvisor page\n",
    "url = \"https://www.tripadvisor.fr/\"\n",
    "\n",
    "# Send a GET request\n",
    "headers = {\"User-Agent\": \"Mozilla/5.0\"}\n",
    "response = requests.post(url, headers=headers)\n",
    "soup = BeautifulSoup(response.content, 'html.parser')\n",
    "\n",
    "print(soup.prettify())\n"
   ]
  },
  {
   "cell_type": "code",
   "execution_count": 37,
   "metadata": {},
   "outputs": [
    {
     "name": "stdout",
     "output_type": "stream",
     "text": [
      "Requirement already satisfied: requests-html in c:\\users\\joel\\miniconda3\\envs\\nlp\\lib\\site-packages (0.10.0)\n",
      "Requirement already satisfied: requests in c:\\users\\joel\\miniconda3\\envs\\nlp\\lib\\site-packages (from requests-html) (2.32.3)\n",
      "Requirement already satisfied: pyquery in c:\\users\\joel\\miniconda3\\envs\\nlp\\lib\\site-packages (from requests-html) (2.0.1)\n",
      "Requirement already satisfied: fake-useragent in c:\\users\\joel\\miniconda3\\envs\\nlp\\lib\\site-packages (from requests-html) (2.0.0)\n",
      "Requirement already satisfied: parse in c:\\users\\joel\\miniconda3\\envs\\nlp\\lib\\site-packages (from requests-html) (1.20.2)\n",
      "Requirement already satisfied: bs4 in c:\\users\\joel\\miniconda3\\envs\\nlp\\lib\\site-packages (from requests-html) (0.0.2)\n",
      "Requirement already satisfied: w3lib in c:\\users\\joel\\miniconda3\\envs\\nlp\\lib\\site-packages (from requests-html) (2.2.1)\n",
      "Requirement already satisfied: pyppeteer>=0.0.14 in c:\\users\\joel\\miniconda3\\envs\\nlp\\lib\\site-packages (from requests-html) (2.0.0)\n",
      "Requirement already satisfied: appdirs<2.0.0,>=1.4.3 in c:\\users\\joel\\miniconda3\\envs\\nlp\\lib\\site-packages (from pyppeteer>=0.0.14->requests-html) (1.4.4)\n",
      "Requirement already satisfied: certifi>=2023 in c:\\users\\joel\\miniconda3\\envs\\nlp\\lib\\site-packages (from pyppeteer>=0.0.14->requests-html) (2024.8.30)\n",
      "Requirement already satisfied: importlib-metadata>=1.4 in c:\\users\\joel\\miniconda3\\envs\\nlp\\lib\\site-packages (from pyppeteer>=0.0.14->requests-html) (8.5.0)\n",
      "Requirement already satisfied: pyee<12.0.0,>=11.0.0 in c:\\users\\joel\\miniconda3\\envs\\nlp\\lib\\site-packages (from pyppeteer>=0.0.14->requests-html) (11.1.1)\n",
      "Requirement already satisfied: tqdm<5.0.0,>=4.42.1 in c:\\users\\joel\\miniconda3\\envs\\nlp\\lib\\site-packages (from pyppeteer>=0.0.14->requests-html) (4.67.1)\n",
      "Requirement already satisfied: urllib3<2.0.0,>=1.25.8 in c:\\users\\joel\\miniconda3\\envs\\nlp\\lib\\site-packages (from pyppeteer>=0.0.14->requests-html) (1.26.20)\n",
      "Requirement already satisfied: websockets<11.0,>=10.0 in c:\\users\\joel\\miniconda3\\envs\\nlp\\lib\\site-packages (from pyppeteer>=0.0.14->requests-html) (10.4)\n",
      "Requirement already satisfied: beautifulsoup4 in c:\\users\\joel\\miniconda3\\envs\\nlp\\lib\\site-packages (from bs4->requests-html) (4.12.3)\n",
      "Requirement already satisfied: lxml>=2.1 in c:\\users\\joel\\miniconda3\\envs\\nlp\\lib\\site-packages (from pyquery->requests-html) (5.3.0)\n",
      "Requirement already satisfied: cssselect>=1.2.0 in c:\\users\\joel\\miniconda3\\envs\\nlp\\lib\\site-packages (from pyquery->requests-html) (1.2.0)\n",
      "Requirement already satisfied: charset-normalizer<4,>=2 in c:\\users\\joel\\miniconda3\\envs\\nlp\\lib\\site-packages (from requests->requests-html) (3.4.0)\n",
      "Requirement already satisfied: idna<4,>=2.5 in c:\\users\\joel\\miniconda3\\envs\\nlp\\lib\\site-packages (from requests->requests-html) (3.10)\n",
      "Requirement already satisfied: zipp>=3.20 in c:\\users\\joel\\miniconda3\\envs\\nlp\\lib\\site-packages (from importlib-metadata>=1.4->pyppeteer>=0.0.14->requests-html) (3.21.0)\n",
      "Requirement already satisfied: typing-extensions in c:\\users\\joel\\appdata\\roaming\\python\\python311\\site-packages (from pyee<12.0.0,>=11.0.0->pyppeteer>=0.0.14->requests-html) (4.12.2)\n",
      "Requirement already satisfied: colorama in c:\\users\\joel\\appdata\\roaming\\python\\python311\\site-packages (from tqdm<5.0.0,>=4.42.1->pyppeteer>=0.0.14->requests-html) (0.4.6)\n",
      "Requirement already satisfied: soupsieve>1.2 in c:\\users\\joel\\miniconda3\\envs\\nlp\\lib\\site-packages (from beautifulsoup4->bs4->requests-html) (2.6)\n",
      "Note: you may need to restart the kernel to use updated packages.\n",
      "Requirement already satisfied: lxml[html_clean] in c:\\users\\joel\\miniconda3\\envs\\nlp\\lib\\site-packages (5.3.0)\n",
      "Collecting lxml-html-clean (from lxml[html_clean])\n",
      "  Downloading lxml_html_clean-0.4.1-py3-none-any.whl.metadata (2.4 kB)\n",
      "Downloading lxml_html_clean-0.4.1-py3-none-any.whl (14 kB)\n",
      "Installing collected packages: lxml-html-clean\n",
      "Successfully installed lxml-html-clean-0.4.1\n",
      "Note: you may need to restart the kernel to use updated packages.\n"
     ]
    }
   ],
   "source": [
    "%pip install requests-html\n",
    "%pip install lxml[html_clean]"
   ]
  },
  {
   "cell_type": "code",
   "execution_count": 3,
   "metadata": {},
   "outputs": [],
   "source": [
    "from requests_html import HTML\n",
    "\n",
    "doc = \"https://www.tripadvisor.fr/\"\n",
    "s = HTML(html=doc)"
   ]
  },
  {
   "cell_type": "code",
   "execution_count": 6,
   "metadata": {},
   "outputs": [
    {
     "data": {
      "text/plain": [
       "'https://example.org/'"
      ]
     },
     "execution_count": 6,
     "metadata": {},
     "output_type": "execute_result"
    }
   ],
   "source": [
    "s.url"
   ]
  },
  {
   "cell_type": "code",
   "execution_count": 24,
   "metadata": {},
   "outputs": [
    {
     "name": "stdout",
     "output_type": "stream",
     "text": [
      "<html>\n",
      " <head>\n",
      "  <title>\n",
      "   tripadvisor.fr\n",
      "  </title>\n",
      "  <style>\n",
      "   #cmsg{animation: A 1.5s;}@keyframes A{0%{opacity:0;}99%{opacity:0;}100%{opacity:1;}}\n",
      "  </style>\n",
      " </head>\n",
      " <body style=\"margin:0\">\n",
      "  <p id=\"cmsg\">\n",
      "   Please enable JS and disable any ad blocker\n",
      "  </p>\n",
      "  <script data-cfasync=\"false\">\n",
      "   var dd={'rt':'c','cid':'AHrlqAAAAAMAj2ooc_BchhEAJUEvBA==','hsh':'2F05D671381DB06BEE4CC52C7A6FD3','t':'fe','r':'b','s':46694,'e':'d2f9639e0430e9ae6034371ed42a5bb6da97214cd32770405835f4aaacfdb533','host':'geo.captcha-delivery.com','cookie':'ZemQ~Xr6RJnqfYpFvht8O873WuB4Jrd3ozhdgwCiHMkkPHvyF6Q5j4ehFaS5apU~ZAf9YKPYvwijMi~z2UGrJKJ~ms20AHdL3hlpCSlIczbjI99GjgnE~qVQhgIqI~6S'}\n",
      "  </script>\n",
      "  <script data-cfasync=\"false\" src=\"https://ct.captcha-delivery.com/c.js\">\n",
      "  </script>\n",
      " </body>\n",
      "</html>\n",
      "\n"
     ]
    }
   ],
   "source": [
    "print(soup.prettify())"
   ]
  }
 ],
 "metadata": {
  "kernelspec": {
   "display_name": "nlp",
   "language": "python",
   "name": "python3"
  },
  "language_info": {
   "codemirror_mode": {
    "name": "ipython",
    "version": 3
   },
   "file_extension": ".py",
   "mimetype": "text/x-python",
   "name": "python",
   "nbconvert_exporter": "python",
   "pygments_lexer": "ipython3",
   "version": "3.11.11"
  }
 },
 "nbformat": 4,
 "nbformat_minor": 2
}
